{
 "cells": [
  {
   "cell_type": "markdown",
   "metadata": {},
   "source": [
    "### Cab-Driver Agent"
   ]
  },
  {
   "cell_type": "code",
   "execution_count": 2,
   "metadata": {},
   "outputs": [
    {
     "name": "stdout",
     "output_type": "stream",
     "text": [
      "Collecting kerasNote: you may need to restart the kernel to use updated packages.\n",
      "\n",
      "  Downloading keras-2.6.0-py2.py3-none-any.whl (1.3 MB)\n",
      "Installing collected packages: keras\n",
      "Successfully installed keras-2.6.0\n"
     ]
    }
   ],
   "source": [
    "pip install keras"
   ]
  },
  {
   "cell_type": "code",
   "execution_count": 7,
   "metadata": {},
   "outputs": [
    {
     "name": "stdout",
     "output_type": "stream",
     "text": [
      "Requirement already satisfied: tensorflow in c:\\users\\aadi\\anaconda3\\lib\\site-packages (2.3.4)\n",
      "Collecting tensorflow\n",
      "  Downloading tensorflow-2.6.0-cp38-cp38-win_amd64.whl (423.2 MB)\n",
      "Requirement already satisfied: typing-extensions~=3.7.4 in c:\\users\\aadi\\anaconda3\\lib\\site-packages (from tensorflow) (3.7.4.3)\n",
      "Collecting clang~=5.0\n",
      "  Downloading clang-5.0.tar.gz (30 kB)\n",
      "Requirement already satisfied: keras-preprocessing~=1.1.2 in c:\\users\\aadi\\anaconda3\\lib\\site-packages (from tensorflow) (1.1.2)\n",
      "Requirement already satisfied: grpcio<2.0,>=1.37.0 in c:\\users\\aadi\\anaconda3\\lib\\site-packages (from tensorflow) (1.39.0)\n",
      "Requirement already satisfied: six~=1.15.0 in c:\\users\\aadi\\anaconda3\\lib\\site-packages (from tensorflow) (1.15.0)\n",
      "Collecting gast==0.4.0\n",
      "  Downloading gast-0.4.0-py3-none-any.whl (9.8 kB)\n",
      "Requirement already satisfied: google-pasta~=0.2 in c:\\users\\aadi\\anaconda3\\lib\\site-packages (from tensorflow) (0.2.0)\n",
      "Requirement already satisfied: wheel~=0.35 in c:\\users\\aadi\\anaconda3\\lib\\site-packages (from tensorflow) (0.36.2)\n",
      "Requirement already satisfied: wrapt~=1.12.1 in c:\\users\\aadi\\anaconda3\\lib\\site-packages (from tensorflow) (1.12.1)\n",
      "Requirement already satisfied: keras~=2.6 in c:\\users\\aadi\\anaconda3\\lib\\site-packages (from tensorflow) (2.6.0)\n",
      "Requirement already satisfied: tensorboard~=2.6 in c:\\users\\aadi\\anaconda3\\lib\\site-packages (from tensorflow) (2.6.0)\n",
      "Requirement already satisfied: opt-einsum~=3.3.0 in c:\\users\\aadi\\anaconda3\\lib\\site-packages (from tensorflow) (3.3.0)\n",
      "Requirement already satisfied: astunparse~=1.6.3 in c:\\users\\aadi\\anaconda3\\lib\\site-packages (from tensorflow) (1.6.3)\n",
      "Requirement already satisfied: termcolor~=1.1.0 in c:\\users\\aadi\\anaconda3\\lib\\site-packages (from tensorflow) (1.1.0)\n",
      "Collecting tensorflow-estimator~=2.6\n",
      "  Downloading tensorflow_estimator-2.6.0-py2.py3-none-any.whl (462 kB)\n",
      "Collecting flatbuffers~=1.12.0\n",
      "  Downloading flatbuffers-1.12-py2.py3-none-any.whl (15 kB)\n",
      "Collecting numpy~=1.19.2\n",
      "  Downloading numpy-1.19.5-cp38-cp38-win_amd64.whl (13.3 MB)\n",
      "Requirement already satisfied: absl-py~=0.10 in c:\\users\\aadi\\anaconda3\\lib\\site-packages (from tensorflow) (0.13.0)\n",
      "Requirement already satisfied: protobuf>=3.9.2 in c:\\users\\aadi\\anaconda3\\lib\\site-packages (from tensorflow) (3.17.3)\n",
      "Collecting h5py~=3.1.0\n",
      "  Downloading h5py-3.1.0-cp38-cp38-win_amd64.whl (2.7 MB)\n",
      "Requirement already satisfied: google-auth-oauthlib<0.5,>=0.4.1 in c:\\users\\aadi\\anaconda3\\lib\\site-packages (from tensorboard~=2.6->tensorflow) (0.4.5)\n",
      "Requirement already satisfied: markdown>=2.6.8 in c:\\users\\aadi\\anaconda3\\lib\\site-packages (from tensorboard~=2.6->tensorflow) (3.3.4)\n",
      "Requirement already satisfied: setuptools>=41.0.0 in c:\\users\\aadi\\anaconda3\\lib\\site-packages (from tensorboard~=2.6->tensorflow) (52.0.0.post20210125)\n",
      "Requirement already satisfied: requests<3,>=2.21.0 in c:\\users\\aadi\\anaconda3\\lib\\site-packages (from tensorboard~=2.6->tensorflow) (2.25.1)\n",
      "Requirement already satisfied: tensorboard-plugin-wit>=1.6.0 in c:\\users\\aadi\\anaconda3\\lib\\site-packages (from tensorboard~=2.6->tensorflow) (1.8.0)\n",
      "Requirement already satisfied: tensorboard-data-server<0.7.0,>=0.6.0 in c:\\users\\aadi\\anaconda3\\lib\\site-packages (from tensorboard~=2.6->tensorflow) (0.6.1)\n",
      "Requirement already satisfied: werkzeug>=0.11.15 in c:\\users\\aadi\\anaconda3\\lib\\site-packages (from tensorboard~=2.6->tensorflow) (1.0.1)\n",
      "Requirement already satisfied: google-auth<2,>=1.6.3 in c:\\users\\aadi\\anaconda3\\lib\\site-packages (from tensorboard~=2.6->tensorflow) (1.35.0)\n",
      "Requirement already satisfied: pyasn1-modules>=0.2.1 in c:\\users\\aadi\\anaconda3\\lib\\site-packages (from google-auth<2,>=1.6.3->tensorboard~=2.6->tensorflow) (0.2.8)\n",
      "Requirement already satisfied: cachetools<5.0,>=2.0.0 in c:\\users\\aadi\\anaconda3\\lib\\site-packages (from google-auth<2,>=1.6.3->tensorboard~=2.6->tensorflow) (4.2.2)\n",
      "Requirement already satisfied: rsa<5,>=3.1.4 in c:\\users\\aadi\\anaconda3\\lib\\site-packages (from google-auth<2,>=1.6.3->tensorboard~=2.6->tensorflow) (4.7.2)\n",
      "Requirement already satisfied: requests-oauthlib>=0.7.0 in c:\\users\\aadi\\anaconda3\\lib\\site-packages (from google-auth-oauthlib<0.5,>=0.4.1->tensorboard~=2.6->tensorflow) (1.3.0)\n",
      "Requirement already satisfied: pyasn1<0.5.0,>=0.4.6 in c:\\users\\aadi\\anaconda3\\lib\\site-packages (from pyasn1-modules>=0.2.1->google-auth<2,>=1.6.3->tensorboard~=2.6->tensorflow) (0.4.8)\n",
      "Requirement already satisfied: urllib3<1.27,>=1.21.1 in c:\\users\\aadi\\anaconda3\\lib\\site-packages (from requests<3,>=2.21.0->tensorboard~=2.6->tensorflow) (1.26.6)\n",
      "Requirement already satisfied: idna<3,>=2.5 in c:\\users\\aadi\\anaconda3\\lib\\site-packages (from requests<3,>=2.21.0->tensorboard~=2.6->tensorflow) (2.10)\n",
      "Requirement already satisfied: chardet<5,>=3.0.2 in c:\\users\\aadi\\anaconda3\\lib\\site-packages (from requests<3,>=2.21.0->tensorboard~=2.6->tensorflow) (3.0.4)\n",
      "Requirement already satisfied: certifi>=2017.4.17 in c:\\users\\aadi\\anaconda3\\lib\\site-packages (from requests<3,>=2.21.0->tensorboard~=2.6->tensorflow) (2020.12.5)\n",
      "Requirement already satisfied: oauthlib>=3.0.0 in c:\\users\\aadi\\anaconda3\\lib\\site-packages (from requests-oauthlib>=0.7.0->google-auth-oauthlib<0.5,>=0.4.1->tensorboard~=2.6->tensorflow) (3.1.1)\n",
      "Building wheels for collected packages: clang\n",
      "  Building wheel for clang (setup.py): started\n",
      "  Building wheel for clang (setup.py): finished with status 'done'\n",
      "  Created wheel for clang: filename=clang-5.0-py3-none-any.whl size=30702 sha256=7291e26b42f426d78dcc868fcbf1d7d0112d6c74e52a3f4ba55df5cb5e133f58\n",
      "  Stored in directory: c:\\users\\aadi\\appdata\\local\\pip\\cache\\wheels\\f1\\60\\77\\22b9b5887bd47801796a856f47650d9789c74dc3161a26d608\n",
      "Successfully built clang\n",
      "Installing collected packages: numpy, tensorflow-estimator, h5py, gast, flatbuffers, clang, tensorflow\n",
      "  Attempting uninstall: numpy\n",
      "    Found existing installation: numpy 1.18.5\n",
      "    Uninstalling numpy-1.18.5:\n",
      "      Successfully uninstalled numpy-1.18.5\n",
      "Note: you may need to restart the kernel to use updated packages.\n"
     ]
    },
    {
     "name": "stderr",
     "output_type": "stream",
     "text": [
      "ERROR: Could not install packages due to an OSError: [WinError 5] Access is denied: 'C:\\\\Users\\\\Aadi\\\\anaconda3\\\\Lib\\\\site-packages\\\\~umpy\\\\.libs\\\\libopenblas.PYQHXLVVQ7VESDPUVUADXEVJOBGHJPAY.gfortran-win_amd64.dll'\n",
      "Consider using the `--user` option or check the permissions.\n",
      "\n"
     ]
    }
   ],
   "source": [
    "pip install --upgrade tensorflow"
   ]
  },
  {
   "cell_type": "code",
   "execution_count": 9,
   "metadata": {},
   "outputs": [
    {
     "name": "stdout",
     "output_type": "stream",
     "text": [
      "Collecting tensorflow-gpu\n",
      "  Downloading tensorflow_gpu-2.6.0-cp38-cp38-win_amd64.whl (423.3 MB)\n",
      "Requirement already satisfied: google-pasta~=0.2 in c:\\users\\aadi\\anaconda3\\lib\\site-packages (from tensorflow-gpu) (0.2.0)\n",
      "Requirement already satisfied: six~=1.15.0 in c:\\users\\aadi\\anaconda3\\lib\\site-packages (from tensorflow-gpu) (1.15.0)\n",
      "Requirement already satisfied: wrapt~=1.12.1 in c:\\users\\aadi\\anaconda3\\lib\\site-packages (from tensorflow-gpu) (1.12.1)\n",
      "Requirement already satisfied: numpy~=1.19.2 in c:\\users\\aadi\\anaconda3\\lib\\site-packages (from tensorflow-gpu) (1.19.5)\n",
      "Requirement already satisfied: opt-einsum~=3.3.0 in c:\\users\\aadi\\anaconda3\\lib\\site-packages (from tensorflow-gpu) (3.3.0)\n",
      "Requirement already satisfied: protobuf>=3.9.2 in c:\\users\\aadi\\anaconda3\\lib\\site-packages (from tensorflow-gpu) (3.17.3)\n",
      "Requirement already satisfied: grpcio<2.0,>=1.37.0 in c:\\users\\aadi\\anaconda3\\lib\\site-packages (from tensorflow-gpu) (1.39.0)\n",
      "Collecting tensorflow-estimator~=2.6\n",
      "  Using cached tensorflow_estimator-2.6.0-py2.py3-none-any.whl (462 kB)\n",
      "Requirement already satisfied: keras-preprocessing~=1.1.2 in c:\\users\\aadi\\anaconda3\\lib\\site-packages (from tensorflow-gpu) (1.1.2)\n",
      "Collecting h5py~=3.1.0\n",
      "  Using cached h5py-3.1.0-cp38-cp38-win_amd64.whl (2.7 MB)\n",
      "Requirement already satisfied: absl-py~=0.10 in c:\\users\\aadi\\anaconda3\\lib\\site-packages (from tensorflow-gpu) (0.13.0)\n",
      "Collecting clang~=5.0\n",
      "  Using cached clang-5.0-py3-none-any.whlNote: you may need to restart the kernel to use updated packages.\n"
     ]
    },
    {
     "name": "stderr",
     "output_type": "stream",
     "text": [
      "ERROR: Could not install packages due to an OSError: [WinError 5] Access is denied: 'C:\\\\Users\\\\Aadi\\\\anaconda3\\\\Lib\\\\site-packages\\\\~5py\\\\defs.cp38-win_amd64.pyd'\n",
      "Consider using the `--user` option or check the permissions.\n",
      "\n"
     ]
    },
    {
     "name": "stdout",
     "output_type": "stream",
     "text": [
      "\n",
      "Requirement already satisfied: termcolor~=1.1.0 in c:\\users\\aadi\\anaconda3\\lib\\site-packages (from tensorflow-gpu) (1.1.0)\n",
      "Requirement already satisfied: tensorboard~=2.6 in c:\\users\\aadi\\anaconda3\\lib\\site-packages (from tensorflow-gpu) (2.6.0)\n",
      "Requirement already satisfied: typing-extensions~=3.7.4 in c:\\users\\aadi\\anaconda3\\lib\\site-packages (from tensorflow-gpu) (3.7.4.3)\n",
      "Requirement already satisfied: astunparse~=1.6.3 in c:\\users\\aadi\\anaconda3\\lib\\site-packages (from tensorflow-gpu) (1.6.3)\n",
      "Collecting flatbuffers~=1.12.0\n",
      "  Using cached flatbuffers-1.12-py2.py3-none-any.whl (15 kB)\n",
      "Collecting gast==0.4.0\n",
      "  Using cached gast-0.4.0-py3-none-any.whl (9.8 kB)\n",
      "Requirement already satisfied: wheel~=0.35 in c:\\users\\aadi\\anaconda3\\lib\\site-packages (from tensorflow-gpu) (0.36.2)\n",
      "Requirement already satisfied: keras~=2.6 in c:\\users\\aadi\\anaconda3\\lib\\site-packages (from tensorflow-gpu) (2.6.0)\n",
      "Requirement already satisfied: werkzeug>=0.11.15 in c:\\users\\aadi\\anaconda3\\lib\\site-packages (from tensorboard~=2.6->tensorflow-gpu) (1.0.1)\n",
      "Requirement already satisfied: tensorboard-data-server<0.7.0,>=0.6.0 in c:\\users\\aadi\\anaconda3\\lib\\site-packages (from tensorboard~=2.6->tensorflow-gpu) (0.6.1)\n",
      "Requirement already satisfied: google-auth<2,>=1.6.3 in c:\\users\\aadi\\anaconda3\\lib\\site-packages (from tensorboard~=2.6->tensorflow-gpu) (1.35.0)\n",
      "Requirement already satisfied: setuptools>=41.0.0 in c:\\users\\aadi\\anaconda3\\lib\\site-packages (from tensorboard~=2.6->tensorflow-gpu) (52.0.0.post20210125)\n",
      "Requirement already satisfied: markdown>=2.6.8 in c:\\users\\aadi\\anaconda3\\lib\\site-packages (from tensorboard~=2.6->tensorflow-gpu) (3.3.4)\n",
      "Requirement already satisfied: requests<3,>=2.21.0 in c:\\users\\aadi\\anaconda3\\lib\\site-packages (from tensorboard~=2.6->tensorflow-gpu) (2.25.1)\n",
      "Requirement already satisfied: tensorboard-plugin-wit>=1.6.0 in c:\\users\\aadi\\anaconda3\\lib\\site-packages (from tensorboard~=2.6->tensorflow-gpu) (1.8.0)\n",
      "Requirement already satisfied: google-auth-oauthlib<0.5,>=0.4.1 in c:\\users\\aadi\\anaconda3\\lib\\site-packages (from tensorboard~=2.6->tensorflow-gpu) (0.4.5)\n",
      "Requirement already satisfied: cachetools<5.0,>=2.0.0 in c:\\users\\aadi\\anaconda3\\lib\\site-packages (from google-auth<2,>=1.6.3->tensorboard~=2.6->tensorflow-gpu) (4.2.2)\n",
      "Requirement already satisfied: pyasn1-modules>=0.2.1 in c:\\users\\aadi\\anaconda3\\lib\\site-packages (from google-auth<2,>=1.6.3->tensorboard~=2.6->tensorflow-gpu) (0.2.8)\n",
      "Requirement already satisfied: rsa<5,>=3.1.4 in c:\\users\\aadi\\anaconda3\\lib\\site-packages (from google-auth<2,>=1.6.3->tensorboard~=2.6->tensorflow-gpu) (4.7.2)\n",
      "Requirement already satisfied: requests-oauthlib>=0.7.0 in c:\\users\\aadi\\anaconda3\\lib\\site-packages (from google-auth-oauthlib<0.5,>=0.4.1->tensorboard~=2.6->tensorflow-gpu) (1.3.0)\n",
      "Requirement already satisfied: pyasn1<0.5.0,>=0.4.6 in c:\\users\\aadi\\anaconda3\\lib\\site-packages (from pyasn1-modules>=0.2.1->google-auth<2,>=1.6.3->tensorboard~=2.6->tensorflow-gpu) (0.4.8)\n",
      "Requirement already satisfied: urllib3<1.27,>=1.21.1 in c:\\users\\aadi\\anaconda3\\lib\\site-packages (from requests<3,>=2.21.0->tensorboard~=2.6->tensorflow-gpu) (1.26.6)\n",
      "Requirement already satisfied: chardet<5,>=3.0.2 in c:\\users\\aadi\\anaconda3\\lib\\site-packages (from requests<3,>=2.21.0->tensorboard~=2.6->tensorflow-gpu) (3.0.4)\n",
      "Requirement already satisfied: idna<3,>=2.5 in c:\\users\\aadi\\anaconda3\\lib\\site-packages (from requests<3,>=2.21.0->tensorboard~=2.6->tensorflow-gpu) (2.10)\n",
      "Requirement already satisfied: certifi>=2017.4.17 in c:\\users\\aadi\\anaconda3\\lib\\site-packages (from requests<3,>=2.21.0->tensorboard~=2.6->tensorflow-gpu) (2020.12.5)\n",
      "Requirement already satisfied: oauthlib>=3.0.0 in c:\\users\\aadi\\anaconda3\\lib\\site-packages (from requests-oauthlib>=0.7.0->google-auth-oauthlib<0.5,>=0.4.1->tensorboard~=2.6->tensorflow-gpu) (3.1.1)\n",
      "Installing collected packages: tensorflow-estimator, h5py, gast, flatbuffers, clang, tensorflow-gpu\n",
      "  Attempting uninstall: tensorflow-estimator\n",
      "    Found existing installation: tensorflow-estimator 2.3.0\n",
      "    Uninstalling tensorflow-estimator-2.3.0:\n",
      "      Successfully uninstalled tensorflow-estimator-2.3.0\n",
      "  Attempting uninstall: h5py\n",
      "    Found existing installation: h5py 2.10.0\n",
      "    Uninstalling h5py-2.10.0:\n",
      "      Successfully uninstalled h5py-2.10.0\n"
     ]
    }
   ],
   "source": [
    "pip install --upgrade tensorflow-gpu"
   ]
  },
  {
   "cell_type": "code",
   "execution_count": 1,
   "metadata": {},
   "outputs": [],
   "source": [
    "# Importing libraries\n",
    "import numpy as np\n",
    "import random\n",
    "import math\n",
    "from collections import deque\n",
    "import collections\n",
    "import pickle\n",
    "\n",
    "# for building DQN model\n",
    "from tensorflow.keras import layers\n",
    "from tensorflow.keras import Sequential\n",
    "from tensorflow.keras.layers import Dense, Activation, Flatten\n",
    "from tensorflow.keras.optimizers import Adam\n",
    "\n",
    "# for plotting graphs\n",
    "import matplotlib.pyplot as plt\n",
    "\n"
   ]
  },
  {
   "cell_type": "code",
   "execution_count": 32,
   "metadata": {},
   "outputs": [],
   "source": [
    "# Import the environment\n",
    "from CabEnvironment import CabDriver"
   ]
  },
  {
   "cell_type": "code",
   "execution_count": 33,
   "metadata": {},
   "outputs": [],
   "source": [
    "env = CabDriver()"
   ]
  },
  {
   "cell_type": "markdown",
   "metadata": {},
   "source": [
    "#### Defining Time Matrix"
   ]
  },
  {
   "cell_type": "code",
   "execution_count": 4,
   "metadata": {},
   "outputs": [],
   "source": [
    "# Loading the time matrix provided\n",
    "Time_matrix = np.load(\"TM.npy\")"
   ]
  },
  {
   "cell_type": "code",
   "execution_count": 5,
   "metadata": {},
   "outputs": [
    {
     "name": "stdout",
     "output_type": "stream",
     "text": [
      "[[[[ 0.  0.  0. ...  0.  0.  0.]\n",
      "   [ 0.  0.  0. ...  0.  0.  0.]\n",
      "   [ 0.  0.  0. ...  0.  0.  0.]\n",
      "   ...\n",
      "   [ 0.  0.  0. ...  0.  0.  0.]\n",
      "   [ 0.  0.  0. ...  0.  0.  0.]\n",
      "   [ 0.  0.  0. ...  0.  0.  0.]]\n",
      "\n",
      "  [[ 2.  3.  3. ...  7.  0.  6.]\n",
      "   [ 2.  3.  3. ...  7.  0.  6.]\n",
      "   [ 2.  3.  3. ...  7.  0.  6.]\n",
      "   ...\n",
      "   [ 2.  3.  6. ...  7.  4.  2.]\n",
      "   [ 2.  3.  6. ...  7.  4.  2.]\n",
      "   [ 2.  3.  6. ...  7.  4.  2.]]\n",
      "\n",
      "  [[ 2.  6.  5. ...  3.  7.  7.]\n",
      "   [ 2.  6.  5. ...  3.  7.  7.]\n",
      "   [ 2.  6.  5. ...  3.  7.  7.]\n",
      "   ...\n",
      "   [ 6.  2.  8. ...  4.  5.  5.]\n",
      "   [ 6.  2.  8. ...  4.  5.  5.]\n",
      "   [ 6.  2.  8. ...  4.  5.  5.]]\n",
      "\n",
      "  [[10.  6.  8. ...  7.  4.  6.]\n",
      "   [10.  6.  8. ...  7.  4.  6.]\n",
      "   [10.  6.  8. ...  7.  4.  6.]\n",
      "   ...\n",
      "   [ 0.  1.  2. ...  1.  3.  3.]\n",
      "   [ 0.  1.  2. ...  1.  3.  3.]\n",
      "   [ 0.  1.  2. ...  1.  3.  3.]]\n",
      "\n",
      "  [[ 1.  1.  1. ...  1.  1.  1.]\n",
      "   [ 1.  1.  1. ...  1.  1.  1.]\n",
      "   [ 1.  1.  1. ...  1.  1.  1.]\n",
      "   ...\n",
      "   [ 6.  4.  7. ...  3.  1.  8.]\n",
      "   [ 6.  4.  7. ...  3.  1.  8.]\n",
      "   [ 6.  4.  7. ...  3.  1.  8.]]]\n",
      "\n",
      "\n",
      " [[[ 2.  3.  3. ...  7.  0.  6.]\n",
      "   [ 2.  3.  3. ...  7.  0.  6.]\n",
      "   [ 2.  3.  3. ...  7.  0.  6.]\n",
      "   ...\n",
      "   [ 2.  3.  6. ...  7.  4.  2.]\n",
      "   [ 2.  3.  6. ...  7.  4.  2.]\n",
      "   [ 2.  3.  6. ...  7.  4.  2.]]\n",
      "\n",
      "  [[ 0.  0.  0. ...  0.  0.  0.]\n",
      "   [ 0.  0.  0. ...  0.  0.  0.]\n",
      "   [ 0.  0.  0. ...  0.  0.  0.]\n",
      "   ...\n",
      "   [ 0.  0.  0. ...  0.  0.  0.]\n",
      "   [ 0.  0.  0. ...  0.  0.  0.]\n",
      "   [ 0.  0.  0. ...  0.  0.  0.]]\n",
      "\n",
      "  [[ 5.  6.  5. ...  7.  9.  7.]\n",
      "   [ 5.  6.  5. ...  7.  9.  7.]\n",
      "   [ 5.  6.  5. ...  7.  9.  7.]\n",
      "   ...\n",
      "   [ 5. 11.  7. ... 10.  6.  8.]\n",
      "   [ 5. 11.  7. ... 10.  6.  8.]\n",
      "   [ 5. 11.  7. ... 10.  6.  8.]]\n",
      "\n",
      "  [[ 5.  6.  5. ...  5.  4.  4.]\n",
      "   [ 5.  6.  5. ...  5.  4.  4.]\n",
      "   [ 5.  6.  5. ...  5.  4.  4.]\n",
      "   ...\n",
      "   [ 1.  2.  1. ...  3.  2.  0.]\n",
      "   [ 1.  2.  1. ...  3.  2.  0.]\n",
      "   [ 1.  2.  1. ...  3.  2.  0.]]\n",
      "\n",
      "  [[ 4.  1.  4. ...  3.  1.  2.]\n",
      "   [ 4.  1.  4. ...  3.  1.  2.]\n",
      "   [ 4.  1.  4. ...  3.  1.  2.]\n",
      "   ...\n",
      "   [ 4.  0.  3. ...  0.  2.  3.]\n",
      "   [ 4.  0.  3. ...  0.  2.  3.]\n",
      "   [ 4.  0.  3. ...  0.  2.  3.]]]\n",
      "\n",
      "\n",
      " [[[ 2.  6.  5. ...  3.  7.  7.]\n",
      "   [ 2.  6.  5. ...  3.  7.  7.]\n",
      "   [ 2.  6.  5. ...  3.  7.  7.]\n",
      "   ...\n",
      "   [ 6.  2.  8. ...  4.  5.  5.]\n",
      "   [ 6.  2.  8. ...  4.  5.  5.]\n",
      "   [ 6.  2.  8. ...  4.  5.  5.]]\n",
      "\n",
      "  [[ 5.  6.  5. ...  7.  9.  7.]\n",
      "   [ 5.  6.  5. ...  7.  9.  7.]\n",
      "   [ 5.  6.  5. ...  7.  9.  7.]\n",
      "   ...\n",
      "   [ 5. 11.  7. ... 10.  6.  8.]\n",
      "   [ 5. 11.  7. ... 10.  6.  8.]\n",
      "   [ 5. 11.  7. ... 10.  6.  8.]]\n",
      "\n",
      "  [[ 0.  0.  0. ...  0.  0.  0.]\n",
      "   [ 0.  0.  0. ...  0.  0.  0.]\n",
      "   [ 0.  0.  0. ...  0.  0.  0.]\n",
      "   ...\n",
      "   [ 0.  0.  0. ...  0.  0.  0.]\n",
      "   [ 0.  0.  0. ...  0.  0.  0.]\n",
      "   [ 0.  0.  0. ...  0.  0.  0.]]\n",
      "\n",
      "  [[ 6.  6.  3. ...  6. 11.  9.]\n",
      "   [ 6.  6.  3. ...  6. 11.  9.]\n",
      "   [ 6.  6.  3. ...  6. 11.  9.]\n",
      "   ...\n",
      "   [ 3.  4.  4. ...  6.  5.  2.]\n",
      "   [ 3.  4.  4. ...  6.  5.  2.]\n",
      "   [ 3.  4.  4. ...  6.  5.  2.]]\n",
      "\n",
      "  [[ 1.  0.  1. ...  1.  0.  5.]\n",
      "   [ 1.  0.  1. ...  1.  0.  5.]\n",
      "   [ 1.  0.  1. ...  1.  0.  5.]\n",
      "   ...\n",
      "   [ 0.  2.  2. ...  0.  0.  2.]\n",
      "   [ 0.  2.  2. ...  0.  0.  2.]\n",
      "   [ 0.  2.  2. ...  0.  0.  2.]]]\n",
      "\n",
      "\n",
      " [[[10.  6.  8. ...  7.  4.  6.]\n",
      "   [10.  6.  8. ...  7.  4.  6.]\n",
      "   [10.  6.  8. ...  7.  4.  6.]\n",
      "   ...\n",
      "   [ 0.  1.  2. ...  1.  3.  3.]\n",
      "   [ 0.  1.  2. ...  1.  3.  3.]\n",
      "   [ 0.  1.  2. ...  1.  3.  3.]]\n",
      "\n",
      "  [[ 5.  6.  5. ...  5.  4.  4.]\n",
      "   [ 5.  6.  5. ...  5.  4.  4.]\n",
      "   [ 5.  6.  5. ...  5.  4.  4.]\n",
      "   ...\n",
      "   [ 1.  2.  1. ...  3.  2.  0.]\n",
      "   [ 1.  2.  1. ...  3.  2.  0.]\n",
      "   [ 1.  2.  1. ...  3.  2.  0.]]\n",
      "\n",
      "  [[ 6.  6.  3. ...  6. 11.  9.]\n",
      "   [ 6.  6.  3. ...  6. 11.  9.]\n",
      "   [ 6.  6.  3. ...  6. 11.  9.]\n",
      "   ...\n",
      "   [ 3.  4.  4. ...  6.  5.  2.]\n",
      "   [ 3.  4.  4. ...  6.  5.  2.]\n",
      "   [ 3.  4.  4. ...  6.  5.  2.]]\n",
      "\n",
      "  [[ 0.  0.  0. ...  0.  0.  0.]\n",
      "   [ 0.  0.  0. ...  0.  0.  0.]\n",
      "   [ 0.  0.  0. ...  0.  0.  0.]\n",
      "   ...\n",
      "   [ 0.  0.  0. ...  0.  0.  0.]\n",
      "   [ 0.  0.  0. ...  0.  0.  0.]\n",
      "   [ 0.  0.  0. ...  0.  0.  0.]]\n",
      "\n",
      "  [[ 2.  5.  1. ...  3.  2.  2.]\n",
      "   [ 2.  5.  1. ...  3.  2.  2.]\n",
      "   [ 2.  5.  1. ...  3.  2.  2.]\n",
      "   ...\n",
      "   [ 5.  2.  4. ...  4.  6.  3.]\n",
      "   [ 5.  2.  4. ...  4.  6.  3.]\n",
      "   [ 5.  2.  4. ...  4.  6.  3.]]]\n",
      "\n",
      "\n",
      " [[[ 1.  1.  1. ...  1.  1.  1.]\n",
      "   [ 1.  1.  1. ...  1.  1.  1.]\n",
      "   [ 1.  1.  1. ...  1.  1.  1.]\n",
      "   ...\n",
      "   [ 6.  4.  7. ...  3.  1.  8.]\n",
      "   [ 6.  4.  7. ...  3.  1.  8.]\n",
      "   [ 6.  4.  7. ...  3.  1.  8.]]\n",
      "\n",
      "  [[ 4.  1.  4. ...  3.  1.  2.]\n",
      "   [ 4.  1.  4. ...  3.  1.  2.]\n",
      "   [ 4.  1.  4. ...  3.  1.  2.]\n",
      "   ...\n",
      "   [ 4.  0.  3. ...  0.  2.  3.]\n",
      "   [ 4.  0.  3. ...  0.  2.  3.]\n",
      "   [ 4.  0.  3. ...  0.  2.  3.]]\n",
      "\n",
      "  [[ 1.  0.  1. ...  1.  0.  5.]\n",
      "   [ 1.  0.  1. ...  1.  0.  5.]\n",
      "   [ 1.  0.  1. ...  1.  0.  5.]\n",
      "   ...\n",
      "   [ 0.  2.  2. ...  0.  0.  2.]\n",
      "   [ 0.  2.  2. ...  0.  0.  2.]\n",
      "   [ 0.  2.  2. ...  0.  0.  2.]]\n",
      "\n",
      "  [[ 2.  5.  1. ...  3.  2.  2.]\n",
      "   [ 2.  5.  1. ...  3.  2.  2.]\n",
      "   [ 2.  5.  1. ...  3.  2.  2.]\n",
      "   ...\n",
      "   [ 5.  2.  4. ...  4.  6.  3.]\n",
      "   [ 5.  2.  4. ...  4.  6.  3.]\n",
      "   [ 5.  2.  4. ...  4.  6.  3.]]\n",
      "\n",
      "  [[ 0.  0.  0. ...  0.  0.  0.]\n",
      "   [ 0.  0.  0. ...  0.  0.  0.]\n",
      "   [ 0.  0.  0. ...  0.  0.  0.]\n",
      "   ...\n",
      "   [ 0.  0.  0. ...  0.  0.  0.]\n",
      "   [ 0.  0.  0. ...  0.  0.  0.]\n",
      "   [ 0.  0.  0. ...  0.  0.  0.]]]]\n"
     ]
    }
   ],
   "source": [
    "print(Time_matrix)"
   ]
  },
  {
   "cell_type": "code",
   "execution_count": 6,
   "metadata": {},
   "outputs": [
    {
     "name": "stdout",
     "output_type": "stream",
     "text": [
      "11.0\n",
      "0.0\n",
      "3.0542857142857143\n",
      "7.93705306122449\n"
     ]
    }
   ],
   "source": [
    "print(Time_matrix.max())\n",
    "print(Time_matrix.min())\n",
    "print(Time_matrix.mean())\n",
    "print(Time_matrix.var())"
   ]
  },
  {
   "cell_type": "markdown",
   "metadata": {},
   "source": [
    "#### Tracking the state-action pairs for checking convergence\n"
   ]
  },
  {
   "cell_type": "code",
   "execution_count": 7,
   "metadata": {},
   "outputs": [],
   "source": [
    "#Defining a function to save the Q-dictionary as a pickle file\n",
    "def save_obj(obj, name ):\n",
    "    with open(name + '.pkl', 'wb') as f:\n",
    "        pickle.dump(obj, f, pickle.HIGHEST_PROTOCOL)"
   ]
  },
  {
   "cell_type": "markdown",
   "metadata": {},
   "source": [
    "### Agent Class\n",
    "\n",
    "If you are using this framework, you need to fill the following to complete the following code block:\n",
    "1. State and Action Size\n",
    "2. Hyperparameters\n",
    "3. Create a neural-network model in function 'build_model()'\n",
    "4. Define epsilon-greedy strategy in function 'get_action()'\n",
    "5. Complete the function 'append_sample()'. This function appends the recent experience tuple <state, action, reward, new-state> to the memory\n",
    "6. Complete the 'train_model()' function with following logic:\n",
    "   - If the memory size is greater than mini-batch size, you randomly sample experiences from memory as per the mini-batch size and do the following:\n",
    "      - Initialise your input and output batch for training the model\n",
    "      - Calculate the target Q value for each sample: reward + gamma*max(Q(s'a,))\n",
    "      - Get Q(s', a) values from the last trained model\n",
    "      - Update the input batch as your encoded state and output batch as your Q-values\n",
    "      - Then fit your DQN model using the updated input and output batch."
   ]
  },
  {
   "cell_type": "code",
   "execution_count": 36,
   "metadata": {},
   "outputs": [],
   "source": [
    "class DQNAgent:\n",
    "    def __init__(self, state_size, action_size):\n",
    "        # Define size of state and action\n",
    "        self.state_size = state_size\n",
    "        self.action_size = action_size\n",
    "\n",
    "        # Write here: Specify you hyper parameters for the DQN\n",
    "        self.discount_factor = .99\n",
    "        self.learning_rate = .001\n",
    "        self.epsilon = 1\n",
    "        self.epsilon_max = 1\n",
    "        self.epsilon_decay = .999\n",
    "        self.epsilon_min = .01\n",
    "        \n",
    "        self.batch_size = 32        \n",
    "        # create replay memory using deque\n",
    "        self.memory = deque(maxlen=2000)\n",
    "\n",
    "        # create main model and target model\n",
    "        self.model = self.build_model()\n",
    "\n",
    "    # approximate Q function using Neural Network\n",
    "    def build_model(self):\n",
    "        model = Sequential()\n",
    "        # Write your code here: Add layers to your neural nets \n",
    "        \n",
    "        model.add(Dense(32, input_dim=self.state_size, activation='relu', kernel_initializer='he_uniform'))\n",
    "        model.add(Dense(32, activation='relu', kernel_initializer='he_uniform'))\n",
    "        model.add(Dense(32, activation='relu', kernel_initializer='he_uniform'))\n",
    "        \n",
    "        model.add(Dense(self.action_size, activation='relu', kernel_initializer='he_uniform'))             \n",
    "        \n",
    "        model.compile(loss='mse',optimizer=Adam(lr=self.learning_rate))\n",
    "        model.summary\n",
    "        return model\n",
    "\n",
    "\n",
    "\n",
    "    def get_action(self, state, pos_actions):\n",
    "    # Write your code here:\n",
    "    # get action from model using epsilon-greedy policy\n",
    "    # Decay in ε after we generate each sample from the environment       \n",
    "        #print(\"1\")    \n",
    "        if np.random.rand() <= self.epsilon:\n",
    "            ch = random.choice(pos_actions)\n",
    "            #print(\"2\") \n",
    "        else:\n",
    "            q_values = self.model.predict(state)\n",
    "            pos_action_q_values = list(q_values[0][index] for index in pos_actions)\n",
    "            q_value_max = np.max(pos_action_q_values)\n",
    "            ch = np.where(q_values[0] == q_value_max)\n",
    "            ch = choice[0][0]       \n",
    "            print(\"3\") \n",
    "        return ch\n",
    "    def append_sample(self, state, action, reward, next_state, terminal_state):\n",
    "    # Write your code here:\n",
    "    # save sample <s,a,r,s'> to the replay memory    \n",
    "        self.memory.append((state, action, reward, next_state, terminal_state))\n",
    "        \n",
    "    \n",
    "    # pick samples randomly from replay memory (with batch_size) and train the network\n",
    "    def train_model(self):\n",
    "        \n",
    "        if len(self.memory) > self.batch_size:\n",
    "            # Sample batch from the memory\n",
    "            mini_batch = random.sample(self.memory, self.batch_size)\n",
    "            batch_size = min(self.batch_size, len(self.memory))\n",
    "            update_output = np.zeros((self.batch_size, self.state_size)) # write here\n",
    "            update_input = np.zeros((self.batch_size, self.state_size))# write here\n",
    "            \n",
    "            action, reward = [], []\n",
    "            \n",
    "            for i in range(self.batch_size):\n",
    "                state, action, reward, next_state = mini_batch[i]\n",
    "                update_input[i] = mini_batch[i][0]\n",
    "                actions.append(mini_batch[i][1])\n",
    "                rewards.append(mini_batch[i][2])\n",
    "                update_target[i] = mini_batch[i][3]\n",
    "                terminal_states.append(mini_batch[i][4])\n",
    "                \n",
    "                # Write your code from here\n",
    "                # 1. Predict the target from earlier model\n",
    "            target = self.model.predict(update_input)    \n",
    "                \n",
    "                # 2. Get the target for the Q-network\n",
    "            target_qval = self.target_model.predict(update_target)   \n",
    "                \n",
    "                #3. Update your 'update_output' and 'update_input' batch\n",
    "\n",
    "            for i in range(self.batch_size):\n",
    "                if terminal_states[i]:\n",
    "                    target[i][actions[i]] = rewards[i]\n",
    "                else: \n",
    "                    target[i][actions[i]] = rewards[i] + self.discount_factor * np.max(target_qval[i])   \n",
    "                \n",
    "        # 4. Fit your model and track the loss values\n",
    "            self.model.fit(update_input, target, batch_size=self.batch_size, epochs=1, verbose=0)\n",
    "\n",
    "    def save(self, name):\n",
    "        self.model.save(name)"
   ]
  },
  {
   "cell_type": "code",
   "execution_count": 17,
   "metadata": {},
   "outputs": [],
   "source": [
    "Episodes = 1000"
   ]
  },
  {
   "cell_type": "markdown",
   "metadata": {},
   "source": [
    "### DQN block"
   ]
  },
  {
   "cell_type": "code",
   "execution_count": 18,
   "metadata": {},
   "outputs": [
    {
     "name": "stdout",
     "output_type": "stream",
     "text": [
      "(2, 0, 0)\n",
      "[(1, 2), (2, 1), (1, 3), (3, 1), (1, 4), (4, 1), (1, 5), (5, 1), (2, 3), (3, 2), (2, 4), (4, 2), (2, 5), (5, 2), (3, 4), (4, 3), (3, 5), (5, 3), (4, 5), (5, 4), (0, 0)] [(1, 0, 0), (1, 0, 1), (1, 0, 2), (1, 0, 3), (1, 0, 4), (1, 0, 5), (1, 0, 6), (1, 1, 0), (1, 1, 1), (1, 1, 2), (1, 1, 3), (1, 1, 4), (1, 1, 5), (1, 1, 6), (1, 2, 0), (1, 2, 1), (1, 2, 2), (1, 2, 3), (1, 2, 4), (1, 2, 5), (1, 2, 6), (1, 3, 0), (1, 3, 1), (1, 3, 2), (1, 3, 3), (1, 3, 4), (1, 3, 5), (1, 3, 6), (1, 4, 0), (1, 4, 1), (1, 4, 2), (1, 4, 3), (1, 4, 4), (1, 4, 5), (1, 4, 6), (1, 5, 0), (1, 5, 1), (1, 5, 2), (1, 5, 3), (1, 5, 4), (1, 5, 5), (1, 5, 6), (1, 6, 0), (1, 6, 1), (1, 6, 2), (1, 6, 3), (1, 6, 4), (1, 6, 5), (1, 6, 6), (1, 7, 0), (1, 7, 1), (1, 7, 2), (1, 7, 3), (1, 7, 4), (1, 7, 5), (1, 7, 6), (1, 8, 0), (1, 8, 1), (1, 8, 2), (1, 8, 3), (1, 8, 4), (1, 8, 5), (1, 8, 6), (1, 9, 0), (1, 9, 1), (1, 9, 2), (1, 9, 3), (1, 9, 4), (1, 9, 5), (1, 9, 6), (1, 10, 0), (1, 10, 1), (1, 10, 2), (1, 10, 3), (1, 10, 4), (1, 10, 5), (1, 10, 6), (1, 11, 0), (1, 11, 1), (1, 11, 2), (1, 11, 3), (1, 11, 4), (1, 11, 5), (1, 11, 6), (1, 12, 0), (1, 12, 1), (1, 12, 2), (1, 12, 3), (1, 12, 4), (1, 12, 5), (1, 12, 6), (1, 13, 0), (1, 13, 1), (1, 13, 2), (1, 13, 3), (1, 13, 4), (1, 13, 5), (1, 13, 6), (1, 14, 0), (1, 14, 1), (1, 14, 2), (1, 14, 3), (1, 14, 4), (1, 14, 5), (1, 14, 6), (1, 15, 0), (1, 15, 1), (1, 15, 2), (1, 15, 3), (1, 15, 4), (1, 15, 5), (1, 15, 6), (1, 16, 0), (1, 16, 1), (1, 16, 2), (1, 16, 3), (1, 16, 4), (1, 16, 5), (1, 16, 6), (1, 17, 0), (1, 17, 1), (1, 17, 2), (1, 17, 3), (1, 17, 4), (1, 17, 5), (1, 17, 6), (1, 18, 0), (1, 18, 1), (1, 18, 2), (1, 18, 3), (1, 18, 4), (1, 18, 5), (1, 18, 6), (1, 19, 0), (1, 19, 1), (1, 19, 2), (1, 19, 3), (1, 19, 4), (1, 19, 5), (1, 19, 6), (1, 20, 0), (1, 20, 1), (1, 20, 2), (1, 20, 3), (1, 20, 4), (1, 20, 5), (1, 20, 6), (1, 21, 0), (1, 21, 1), (1, 21, 2), (1, 21, 3), (1, 21, 4), (1, 21, 5), (1, 21, 6), (1, 22, 0), (1, 22, 1), (1, 22, 2), (1, 22, 3), (1, 22, 4), (1, 22, 5), (1, 22, 6), (1, 23, 0), (1, 23, 1), (1, 23, 2), (1, 23, 3), (1, 23, 4), (1, 23, 5), (1, 23, 6), (2, 0, 0), (2, 0, 1), (2, 0, 2), (2, 0, 3), (2, 0, 4), (2, 0, 5), (2, 0, 6), (2, 1, 0), (2, 1, 1), (2, 1, 2), (2, 1, 3), (2, 1, 4), (2, 1, 5), (2, 1, 6), (2, 2, 0), (2, 2, 1), (2, 2, 2), (2, 2, 3), (2, 2, 4), (2, 2, 5), (2, 2, 6), (2, 3, 0), (2, 3, 1), (2, 3, 2), (2, 3, 3), (2, 3, 4), (2, 3, 5), (2, 3, 6), (2, 4, 0), (2, 4, 1), (2, 4, 2), (2, 4, 3), (2, 4, 4), (2, 4, 5), (2, 4, 6), (2, 5, 0), (2, 5, 1), (2, 5, 2), (2, 5, 3), (2, 5, 4), (2, 5, 5), (2, 5, 6), (2, 6, 0), (2, 6, 1), (2, 6, 2), (2, 6, 3), (2, 6, 4), (2, 6, 5), (2, 6, 6), (2, 7, 0), (2, 7, 1), (2, 7, 2), (2, 7, 3), (2, 7, 4), (2, 7, 5), (2, 7, 6), (2, 8, 0), (2, 8, 1), (2, 8, 2), (2, 8, 3), (2, 8, 4), (2, 8, 5), (2, 8, 6), (2, 9, 0), (2, 9, 1), (2, 9, 2), (2, 9, 3), (2, 9, 4), (2, 9, 5), (2, 9, 6), (2, 10, 0), (2, 10, 1), (2, 10, 2), (2, 10, 3), (2, 10, 4), (2, 10, 5), (2, 10, 6), (2, 11, 0), (2, 11, 1), (2, 11, 2), (2, 11, 3), (2, 11, 4), (2, 11, 5), (2, 11, 6), (2, 12, 0), (2, 12, 1), (2, 12, 2), (2, 12, 3), (2, 12, 4), (2, 12, 5), (2, 12, 6), (2, 13, 0), (2, 13, 1), (2, 13, 2), (2, 13, 3), (2, 13, 4), (2, 13, 5), (2, 13, 6), (2, 14, 0), (2, 14, 1), (2, 14, 2), (2, 14, 3), (2, 14, 4), (2, 14, 5), (2, 14, 6), (2, 15, 0), (2, 15, 1), (2, 15, 2), (2, 15, 3), (2, 15, 4), (2, 15, 5), (2, 15, 6), (2, 16, 0), (2, 16, 1), (2, 16, 2), (2, 16, 3), (2, 16, 4), (2, 16, 5), (2, 16, 6), (2, 17, 0), (2, 17, 1), (2, 17, 2), (2, 17, 3), (2, 17, 4), (2, 17, 5), (2, 17, 6), (2, 18, 0), (2, 18, 1), (2, 18, 2), (2, 18, 3), (2, 18, 4), (2, 18, 5), (2, 18, 6), (2, 19, 0), (2, 19, 1), (2, 19, 2), (2, 19, 3), (2, 19, 4), (2, 19, 5), (2, 19, 6), (2, 20, 0), (2, 20, 1), (2, 20, 2), (2, 20, 3), (2, 20, 4), (2, 20, 5), (2, 20, 6), (2, 21, 0), (2, 21, 1), (2, 21, 2), (2, 21, 3), (2, 21, 4), (2, 21, 5), (2, 21, 6), (2, 22, 0), (2, 22, 1), (2, 22, 2), (2, 22, 3), (2, 22, 4), (2, 22, 5), (2, 22, 6), (2, 23, 0), (2, 23, 1), (2, 23, 2), (2, 23, 3), (2, 23, 4), (2, 23, 5), (2, 23, 6), (3, 0, 0), (3, 0, 1), (3, 0, 2), (3, 0, 3), (3, 0, 4), (3, 0, 5), (3, 0, 6), (3, 1, 0), (3, 1, 1), (3, 1, 2), (3, 1, 3), (3, 1, 4), (3, 1, 5), (3, 1, 6), (3, 2, 0), (3, 2, 1), (3, 2, 2), (3, 2, 3), (3, 2, 4), (3, 2, 5), (3, 2, 6), (3, 3, 0), (3, 3, 1), (3, 3, 2), (3, 3, 3), (3, 3, 4), (3, 3, 5), (3, 3, 6), (3, 4, 0), (3, 4, 1), (3, 4, 2), (3, 4, 3), (3, 4, 4), (3, 4, 5), (3, 4, 6), (3, 5, 0), (3, 5, 1), (3, 5, 2), (3, 5, 3), (3, 5, 4), (3, 5, 5), (3, 5, 6), (3, 6, 0), (3, 6, 1), (3, 6, 2), (3, 6, 3), (3, 6, 4), (3, 6, 5), (3, 6, 6), (3, 7, 0), (3, 7, 1), (3, 7, 2), (3, 7, 3), (3, 7, 4), (3, 7, 5), (3, 7, 6), (3, 8, 0), (3, 8, 1), (3, 8, 2), (3, 8, 3), (3, 8, 4), (3, 8, 5), (3, 8, 6), (3, 9, 0), (3, 9, 1), (3, 9, 2), (3, 9, 3), (3, 9, 4), (3, 9, 5), (3, 9, 6), (3, 10, 0), (3, 10, 1), (3, 10, 2), (3, 10, 3), (3, 10, 4), (3, 10, 5), (3, 10, 6), (3, 11, 0), (3, 11, 1), (3, 11, 2), (3, 11, 3), (3, 11, 4), (3, 11, 5), (3, 11, 6), (3, 12, 0), (3, 12, 1), (3, 12, 2), (3, 12, 3), (3, 12, 4), (3, 12, 5), (3, 12, 6), (3, 13, 0), (3, 13, 1), (3, 13, 2), (3, 13, 3), (3, 13, 4), (3, 13, 5), (3, 13, 6), (3, 14, 0), (3, 14, 1), (3, 14, 2), (3, 14, 3), (3, 14, 4), (3, 14, 5), (3, 14, 6), (3, 15, 0), (3, 15, 1), (3, 15, 2), (3, 15, 3), (3, 15, 4), (3, 15, 5), (3, 15, 6), (3, 16, 0), (3, 16, 1), (3, 16, 2), (3, 16, 3), (3, 16, 4), (3, 16, 5), (3, 16, 6), (3, 17, 0), (3, 17, 1), (3, 17, 2), (3, 17, 3), (3, 17, 4), (3, 17, 5), (3, 17, 6), (3, 18, 0), (3, 18, 1), (3, 18, 2), (3, 18, 3), (3, 18, 4), (3, 18, 5), (3, 18, 6), (3, 19, 0), (3, 19, 1), (3, 19, 2), (3, 19, 3), (3, 19, 4), (3, 19, 5), (3, 19, 6), (3, 20, 0), (3, 20, 1), (3, 20, 2), (3, 20, 3), (3, 20, 4), (3, 20, 5), (3, 20, 6), (3, 21, 0), (3, 21, 1), (3, 21, 2), (3, 21, 3), (3, 21, 4), (3, 21, 5), (3, 21, 6), (3, 22, 0), (3, 22, 1), (3, 22, 2), (3, 22, 3), (3, 22, 4), (3, 22, 5), (3, 22, 6), (3, 23, 0), (3, 23, 1), (3, 23, 2), (3, 23, 3), (3, 23, 4), (3, 23, 5), (3, 23, 6), (4, 0, 0), (4, 0, 1), (4, 0, 2), (4, 0, 3), (4, 0, 4), (4, 0, 5), (4, 0, 6), (4, 1, 0), (4, 1, 1), (4, 1, 2), (4, 1, 3), (4, 1, 4), (4, 1, 5), (4, 1, 6), (4, 2, 0), (4, 2, 1), (4, 2, 2), (4, 2, 3), (4, 2, 4), (4, 2, 5), (4, 2, 6), (4, 3, 0), (4, 3, 1), (4, 3, 2), (4, 3, 3), (4, 3, 4), (4, 3, 5), (4, 3, 6), (4, 4, 0), (4, 4, 1), (4, 4, 2), (4, 4, 3), (4, 4, 4), (4, 4, 5), (4, 4, 6), (4, 5, 0), (4, 5, 1), (4, 5, 2), (4, 5, 3), (4, 5, 4), (4, 5, 5), (4, 5, 6), (4, 6, 0), (4, 6, 1), (4, 6, 2), (4, 6, 3), (4, 6, 4), (4, 6, 5), (4, 6, 6), (4, 7, 0), (4, 7, 1), (4, 7, 2), (4, 7, 3), (4, 7, 4), (4, 7, 5), (4, 7, 6), (4, 8, 0), (4, 8, 1), (4, 8, 2), (4, 8, 3), (4, 8, 4), (4, 8, 5), (4, 8, 6), (4, 9, 0), (4, 9, 1), (4, 9, 2), (4, 9, 3), (4, 9, 4), (4, 9, 5), (4, 9, 6), (4, 10, 0), (4, 10, 1), (4, 10, 2), (4, 10, 3), (4, 10, 4), (4, 10, 5), (4, 10, 6), (4, 11, 0), (4, 11, 1), (4, 11, 2), (4, 11, 3), (4, 11, 4), (4, 11, 5), (4, 11, 6), (4, 12, 0), (4, 12, 1), (4, 12, 2), (4, 12, 3), (4, 12, 4), (4, 12, 5), (4, 12, 6), (4, 13, 0), (4, 13, 1), (4, 13, 2), (4, 13, 3), (4, 13, 4), (4, 13, 5), (4, 13, 6), (4, 14, 0), (4, 14, 1), (4, 14, 2), (4, 14, 3), (4, 14, 4), (4, 14, 5), (4, 14, 6), (4, 15, 0), (4, 15, 1), (4, 15, 2), (4, 15, 3), (4, 15, 4), (4, 15, 5), (4, 15, 6), (4, 16, 0), (4, 16, 1), (4, 16, 2), (4, 16, 3), (4, 16, 4), (4, 16, 5), (4, 16, 6), (4, 17, 0), (4, 17, 1), (4, 17, 2), (4, 17, 3), (4, 17, 4), (4, 17, 5), (4, 17, 6), (4, 18, 0), (4, 18, 1), (4, 18, 2), (4, 18, 3), (4, 18, 4), (4, 18, 5), (4, 18, 6), (4, 19, 0), (4, 19, 1), (4, 19, 2), (4, 19, 3), (4, 19, 4), (4, 19, 5), (4, 19, 6), (4, 20, 0), (4, 20, 1), (4, 20, 2), (4, 20, 3), (4, 20, 4), (4, 20, 5), (4, 20, 6), (4, 21, 0), (4, 21, 1), (4, 21, 2), (4, 21, 3), (4, 21, 4), (4, 21, 5), (4, 21, 6), (4, 22, 0), (4, 22, 1), (4, 22, 2), (4, 22, 3), (4, 22, 4), (4, 22, 5), (4, 22, 6), (4, 23, 0), (4, 23, 1), (4, 23, 2), (4, 23, 3), (4, 23, 4), (4, 23, 5), (4, 23, 6), (5, 0, 0), (5, 0, 1), (5, 0, 2), (5, 0, 3), (5, 0, 4), (5, 0, 5), (5, 0, 6), (5, 1, 0), (5, 1, 1), (5, 1, 2), (5, 1, 3), (5, 1, 4), (5, 1, 5), (5, 1, 6), (5, 2, 0), (5, 2, 1), (5, 2, 2), (5, 2, 3), (5, 2, 4), (5, 2, 5), (5, 2, 6), (5, 3, 0), (5, 3, 1), (5, 3, 2), (5, 3, 3), (5, 3, 4), (5, 3, 5), (5, 3, 6), (5, 4, 0), (5, 4, 1), (5, 4, 2), (5, 4, 3), (5, 4, 4), (5, 4, 5), (5, 4, 6), (5, 5, 0), (5, 5, 1), (5, 5, 2), (5, 5, 3), (5, 5, 4), (5, 5, 5), (5, 5, 6), (5, 6, 0), (5, 6, 1), (5, 6, 2), (5, 6, 3), (5, 6, 4), (5, 6, 5), (5, 6, 6), (5, 7, 0), (5, 7, 1), (5, 7, 2), (5, 7, 3), (5, 7, 4), (5, 7, 5), (5, 7, 6), (5, 8, 0), (5, 8, 1), (5, 8, 2), (5, 8, 3), (5, 8, 4), (5, 8, 5), (5, 8, 6), (5, 9, 0), (5, 9, 1), (5, 9, 2), (5, 9, 3), (5, 9, 4), (5, 9, 5), (5, 9, 6), (5, 10, 0), (5, 10, 1), (5, 10, 2), (5, 10, 3), (5, 10, 4), (5, 10, 5), (5, 10, 6), (5, 11, 0), (5, 11, 1), (5, 11, 2), (5, 11, 3), (5, 11, 4), (5, 11, 5), (5, 11, 6), (5, 12, 0), (5, 12, 1), (5, 12, 2), (5, 12, 3), (5, 12, 4), (5, 12, 5), (5, 12, 6), (5, 13, 0), (5, 13, 1), (5, 13, 2), (5, 13, 3), (5, 13, 4), (5, 13, 5), (5, 13, 6), (5, 14, 0), (5, 14, 1), (5, 14, 2), (5, 14, 3), (5, 14, 4), (5, 14, 5), (5, 14, 6), (5, 15, 0), (5, 15, 1), (5, 15, 2), (5, 15, 3), (5, 15, 4), (5, 15, 5), (5, 15, 6), (5, 16, 0), (5, 16, 1), (5, 16, 2), (5, 16, 3), (5, 16, 4), (5, 16, 5), (5, 16, 6), (5, 17, 0), (5, 17, 1), (5, 17, 2), (5, 17, 3), (5, 17, 4), (5, 17, 5), (5, 17, 6), (5, 18, 0), (5, 18, 1), (5, 18, 2), (5, 18, 3), (5, 18, 4), (5, 18, 5), (5, 18, 6), (5, 19, 0), (5, 19, 1), (5, 19, 2), (5, 19, 3), (5, 19, 4), (5, 19, 5), (5, 19, 6), (5, 20, 0), (5, 20, 1), (5, 20, 2), (5, 20, 3), (5, 20, 4), (5, 20, 5), (5, 20, 6), (5, 21, 0), (5, 21, 1), (5, 21, 2), (5, 21, 3), (5, 21, 4), (5, 21, 5), (5, 21, 6), (5, 22, 0), (5, 22, 1), (5, 22, 2), (5, 22, 3), (5, 22, 4), (5, 22, 5), (5, 22, 6), (5, 23, 0), (5, 23, 1), (5, 23, 2), (5, 23, 3), (5, 23, 4), (5, 23, 5), (5, 23, 6)] (2, 0, 0)\n",
      "36 21\n"
     ]
    }
   ],
   "source": [
    "scores, episodes = [], []\n",
    "\n",
    "m = 5 # number of cities, ranges from 1 ..... m\n",
    "t = 24 # number of hours, ranges from 0 .... t-1\n",
    "d = 7  # number of days, ranges from 0 ... d-1\n",
    "C = 5 # Per hour fuel and other costs\n",
    "R = 9 # per hour revenue from a passenger\n",
    "\n",
    "state = env.state_init\n",
    "print(state)\n",
    "\n",
    "action_space, state_space, state = env.reset()\n",
    "\n",
    "print(action_space, state_space, state)\n",
    "\n",
    "state_size = m+t+d\n",
    "action_size = len(action_space)\n",
    "\n",
    "\n",
    "print(state_size,action_size)"
   ]
  },
  {
   "cell_type": "code",
   "execution_count": 77,
   "metadata": {},
   "outputs": [
    {
     "name": "stdout",
     "output_type": "stream",
     "text": [
      "5\n"
     ]
    },
    {
     "ename": "IndexError",
     "evalue": "index 5 is out of bounds for axis 0 with size 5",
     "output_type": "error",
     "traceback": [
      "\u001b[1;31m---------------------------------------------------------------------------\u001b[0m",
      "\u001b[1;31mIndexError\u001b[0m                                Traceback (most recent call last)",
      "\u001b[1;32m<ipython-input-77-2a7407d81691>\u001b[0m in \u001b[0;36m<module>\u001b[1;34m\u001b[0m\n\u001b[0;32m     43\u001b[0m         \u001b[1;31m#print(env.action_space)\u001b[0m\u001b[1;33m\u001b[0m\u001b[1;33m\u001b[0m\u001b[1;33m\u001b[0m\u001b[0m\n\u001b[0;32m     44\u001b[0m         \u001b[1;31m#print(action)\u001b[0m\u001b[1;33m\u001b[0m\u001b[1;33m\u001b[0m\u001b[1;33m\u001b[0m\u001b[0m\n\u001b[1;32m---> 45\u001b[1;33m         \u001b[0mreward\u001b[0m \u001b[1;33m=\u001b[0m \u001b[0menv\u001b[0m\u001b[1;33m.\u001b[0m\u001b[0mreward_func\u001b[0m\u001b[1;33m(\u001b[0m\u001b[0mstate\u001b[0m\u001b[1;33m,\u001b[0m \u001b[0menv\u001b[0m\u001b[1;33m.\u001b[0m\u001b[0maction_space\u001b[0m\u001b[1;33m[\u001b[0m\u001b[0maction\u001b[0m\u001b[1;33m]\u001b[0m\u001b[1;33m,\u001b[0m \u001b[0mTime_matrix\u001b[0m\u001b[1;33m)\u001b[0m\u001b[1;33m\u001b[0m\u001b[1;33m\u001b[0m\u001b[0m\n\u001b[0m\u001b[0;32m     46\u001b[0m         \u001b[0mnext_state\u001b[0m \u001b[1;33m=\u001b[0m \u001b[0menv\u001b[0m\u001b[1;33m.\u001b[0m\u001b[0mnext_state_func\u001b[0m\u001b[1;33m(\u001b[0m\u001b[0mstate\u001b[0m\u001b[1;33m,\u001b[0m \u001b[0menv\u001b[0m\u001b[1;33m.\u001b[0m\u001b[0maction_space\u001b[0m\u001b[1;33m[\u001b[0m\u001b[0maction\u001b[0m\u001b[1;33m]\u001b[0m\u001b[1;33m,\u001b[0m \u001b[0mTime_matrix\u001b[0m\u001b[1;33m)\u001b[0m\u001b[1;33m\u001b[0m\u001b[1;33m\u001b[0m\u001b[0m\n\u001b[0;32m     47\u001b[0m         \u001b[0mnext_state_encoded\u001b[0m \u001b[1;33m=\u001b[0m \u001b[0menv\u001b[0m\u001b[1;33m.\u001b[0m\u001b[0mstate_encod_arch1\u001b[0m\u001b[1;33m(\u001b[0m\u001b[0mnext_state\u001b[0m\u001b[1;33m)\u001b[0m\u001b[1;33m\u001b[0m\u001b[1;33m\u001b[0m\u001b[0m\n",
      "\u001b[1;32m~\\pooja\\cab driver - deep RL\\RL+Project(Cab-Driver)-Code+Structure\\RL Project(Cab-Driver)-Code Structure\\CabEnvironment.py\u001b[0m in \u001b[0;36mreward_func\u001b[1;34m(self, state, action, Time_matrix)\u001b[0m\n\u001b[0;32m     94\u001b[0m             \u001b[0mreward\u001b[0m \u001b[1;33m=\u001b[0m \u001b[0mr_cost\u001b[0m \u001b[1;33m-\u001b[0m \u001b[0mc_cost\u001b[0m\u001b[1;33m\u001b[0m\u001b[1;33m\u001b[0m\u001b[0m\n\u001b[0;32m     95\u001b[0m         \u001b[1;32mreturn\u001b[0m \u001b[0mreward\u001b[0m\u001b[1;33m\u001b[0m\u001b[1;33m\u001b[0m\u001b[0m\n\u001b[1;32m---> 96\u001b[1;33m \u001b[1;33m\u001b[0m\u001b[0m\n\u001b[0m\u001b[0;32m     97\u001b[0m \u001b[1;33m\u001b[0m\u001b[0m\n\u001b[0;32m     98\u001b[0m     \u001b[1;32mdef\u001b[0m \u001b[0mnext_state_func\u001b[0m\u001b[1;33m(\u001b[0m\u001b[0mself\u001b[0m\u001b[1;33m,\u001b[0m \u001b[0mstate\u001b[0m\u001b[1;33m,\u001b[0m \u001b[0maction\u001b[0m\u001b[1;33m,\u001b[0m \u001b[0mTime_matrix\u001b[0m\u001b[1;33m)\u001b[0m\u001b[1;33m:\u001b[0m\u001b[1;33m\u001b[0m\u001b[1;33m\u001b[0m\u001b[0m\n",
      "\u001b[1;31mIndexError\u001b[0m: index 5 is out of bounds for axis 0 with size 5"
     ]
    }
   ],
   "source": [
    "import datetime\n",
    "num_episodes = 1000\n",
    "for episode in range(num_episodes):\n",
    "\n",
    "    # Write code here\n",
    "    terminal_state = False\n",
    "    score = 0\n",
    "    reward = False\n",
    "    \n",
    "    # Call the environment\n",
    "    env = CabDriver()\n",
    "    # Call all the initialised variables of the environment\n",
    "    action_space, state_space, state = env.reset()\n",
    "    initial_state = env.state_init\n",
    "    #Call the DQN agent\n",
    "    agent = DQNAgent(action_size=action_size, state_size=state_size)\n",
    "    \n",
    "  \n",
    "    \n",
    "    while not terminal_state:\n",
    "        \n",
    "        # Write your code here\n",
    "        # 1. Pick epsilon-greedy action from possible actions for the current state\n",
    "        # 2. Evaluate your reward and next state\n",
    "        # 3. Append the experience to the memory\n",
    "        # 4. Train the model by calling function agent.train_model\n",
    "        # 5. Keep a track of rewards, Q-values, loss\n",
    "        \n",
    "        \n",
    "        \n",
    "        possible_actions, action_list = env.requests(state)\n",
    "        \n",
    "        state_encoded = env.state_encod_arch1(state)\n",
    "        \n",
    "        #print(possible_actions)\n",
    "        #print(state_encoded)\n",
    "        \n",
    "        \n",
    "        action = agent.get_action(state_encoded, possible_actions)\n",
    "        #print(possible_actions)\n",
    "        #print(state)\n",
    "        #print(env.action_space[action])\n",
    "        #print(env.action_space)\n",
    "        #print(action)\n",
    "        reward = env.reward_func(state, env.action_space[action], Time_matrix)\n",
    "        next_state = env.next_state_func(state, env.action_space[action], Time_matrix)\n",
    "        next_state_encoded = env.state_encod_arch1(next_state)\n",
    "        next_state_encoded = np.reshape(next_state_encoded, [1, state_size])        \n",
    "        agent.append_sample(state_encoded, action, reward, next_state_encoded, terminal_state)       \n",
    "        \n",
    "        agent.train_model()        \n",
    "        score += reward\n",
    "        state_encoded = next_state_encoded\n",
    "        scores.append(score)\n",
    "        \n",
    "        agent.epsilon = (1 - 0.00001) * np.exp(agent.epsilon_decay * episode)    \n",
    "    \n",
    "    if (episode + 1) % 100 == 0:\n",
    "        print(\"Episode:\", episode + 1, \"  score:\", score, \"  memory length:\", len(agent.memory), \"  epsilon:\", agent.epsilon)\n",
    "        pylab.plot(episodes, scores)\n",
    "        pylab.savefig(\"model\" + pd.datetime.now().hour + pd.datetime.now().minute + \".png\")\n",
    "        agent.save(\"model\" + pd.datetime.now().hour + pd.datetime.now().minute  + \".h5\")\n",
    "        save_obj(agent.self.model.get_weights(), \"cabdriver\" + pd.datetime.now().hour + pd.datetime.now().minute)"
   ]
  },
  {
   "cell_type": "markdown",
   "metadata": {},
   "source": [
    "### Tracking Convergence"
   ]
  },
  {
   "cell_type": "code",
   "execution_count": 52,
   "metadata": {},
   "outputs": [
    {
     "ename": "ValueError",
     "evalue": "x and y must have same first dimension, but have shapes (0,) and (24,)",
     "output_type": "error",
     "traceback": [
      "\u001b[1;31m---------------------------------------------------------------------------\u001b[0m",
      "\u001b[1;31mValueError\u001b[0m                                Traceback (most recent call last)",
      "\u001b[1;32m<ipython-input-52-9ae61c16c597>\u001b[0m in \u001b[0;36m<module>\u001b[1;34m\u001b[0m\n\u001b[1;32m----> 1\u001b[1;33m \u001b[0mplt\u001b[0m\u001b[1;33m.\u001b[0m\u001b[0mplot\u001b[0m\u001b[1;33m(\u001b[0m\u001b[0mepisodes\u001b[0m\u001b[1;33m,\u001b[0m \u001b[0mscores\u001b[0m\u001b[1;33m)\u001b[0m\u001b[1;33m\u001b[0m\u001b[1;33m\u001b[0m\u001b[0m\n\u001b[0m",
      "\u001b[1;32m~\\anaconda3\\lib\\site-packages\\matplotlib\\pyplot.py\u001b[0m in \u001b[0;36mplot\u001b[1;34m(scalex, scaley, data, *args, **kwargs)\u001b[0m\n\u001b[0;32m   2838\u001b[0m \u001b[1;33m@\u001b[0m\u001b[0m_copy_docstring_and_deprecators\u001b[0m\u001b[1;33m(\u001b[0m\u001b[0mAxes\u001b[0m\u001b[1;33m.\u001b[0m\u001b[0mplot\u001b[0m\u001b[1;33m)\u001b[0m\u001b[1;33m\u001b[0m\u001b[1;33m\u001b[0m\u001b[0m\n\u001b[0;32m   2839\u001b[0m \u001b[1;32mdef\u001b[0m \u001b[0mplot\u001b[0m\u001b[1;33m(\u001b[0m\u001b[1;33m*\u001b[0m\u001b[0margs\u001b[0m\u001b[1;33m,\u001b[0m \u001b[0mscalex\u001b[0m\u001b[1;33m=\u001b[0m\u001b[1;32mTrue\u001b[0m\u001b[1;33m,\u001b[0m \u001b[0mscaley\u001b[0m\u001b[1;33m=\u001b[0m\u001b[1;32mTrue\u001b[0m\u001b[1;33m,\u001b[0m \u001b[0mdata\u001b[0m\u001b[1;33m=\u001b[0m\u001b[1;32mNone\u001b[0m\u001b[1;33m,\u001b[0m \u001b[1;33m**\u001b[0m\u001b[0mkwargs\u001b[0m\u001b[1;33m)\u001b[0m\u001b[1;33m:\u001b[0m\u001b[1;33m\u001b[0m\u001b[1;33m\u001b[0m\u001b[0m\n\u001b[1;32m-> 2840\u001b[1;33m     return gca().plot(\n\u001b[0m\u001b[0;32m   2841\u001b[0m         \u001b[1;33m*\u001b[0m\u001b[0margs\u001b[0m\u001b[1;33m,\u001b[0m \u001b[0mscalex\u001b[0m\u001b[1;33m=\u001b[0m\u001b[0mscalex\u001b[0m\u001b[1;33m,\u001b[0m \u001b[0mscaley\u001b[0m\u001b[1;33m=\u001b[0m\u001b[0mscaley\u001b[0m\u001b[1;33m,\u001b[0m\u001b[1;33m\u001b[0m\u001b[1;33m\u001b[0m\u001b[0m\n\u001b[0;32m   2842\u001b[0m         **({\"data\": data} if data is not None else {}), **kwargs)\n",
      "\u001b[1;32m~\\anaconda3\\lib\\site-packages\\matplotlib\\axes\\_axes.py\u001b[0m in \u001b[0;36mplot\u001b[1;34m(self, scalex, scaley, data, *args, **kwargs)\u001b[0m\n\u001b[0;32m   1741\u001b[0m         \"\"\"\n\u001b[0;32m   1742\u001b[0m         \u001b[0mkwargs\u001b[0m \u001b[1;33m=\u001b[0m \u001b[0mcbook\u001b[0m\u001b[1;33m.\u001b[0m\u001b[0mnormalize_kwargs\u001b[0m\u001b[1;33m(\u001b[0m\u001b[0mkwargs\u001b[0m\u001b[1;33m,\u001b[0m \u001b[0mmlines\u001b[0m\u001b[1;33m.\u001b[0m\u001b[0mLine2D\u001b[0m\u001b[1;33m)\u001b[0m\u001b[1;33m\u001b[0m\u001b[1;33m\u001b[0m\u001b[0m\n\u001b[1;32m-> 1743\u001b[1;33m         \u001b[0mlines\u001b[0m \u001b[1;33m=\u001b[0m \u001b[1;33m[\u001b[0m\u001b[1;33m*\u001b[0m\u001b[0mself\u001b[0m\u001b[1;33m.\u001b[0m\u001b[0m_get_lines\u001b[0m\u001b[1;33m(\u001b[0m\u001b[1;33m*\u001b[0m\u001b[0margs\u001b[0m\u001b[1;33m,\u001b[0m \u001b[0mdata\u001b[0m\u001b[1;33m=\u001b[0m\u001b[0mdata\u001b[0m\u001b[1;33m,\u001b[0m \u001b[1;33m**\u001b[0m\u001b[0mkwargs\u001b[0m\u001b[1;33m)\u001b[0m\u001b[1;33m]\u001b[0m\u001b[1;33m\u001b[0m\u001b[1;33m\u001b[0m\u001b[0m\n\u001b[0m\u001b[0;32m   1744\u001b[0m         \u001b[1;32mfor\u001b[0m \u001b[0mline\u001b[0m \u001b[1;32min\u001b[0m \u001b[0mlines\u001b[0m\u001b[1;33m:\u001b[0m\u001b[1;33m\u001b[0m\u001b[1;33m\u001b[0m\u001b[0m\n\u001b[0;32m   1745\u001b[0m             \u001b[0mself\u001b[0m\u001b[1;33m.\u001b[0m\u001b[0madd_line\u001b[0m\u001b[1;33m(\u001b[0m\u001b[0mline\u001b[0m\u001b[1;33m)\u001b[0m\u001b[1;33m\u001b[0m\u001b[1;33m\u001b[0m\u001b[0m\n",
      "\u001b[1;32m~\\anaconda3\\lib\\site-packages\\matplotlib\\axes\\_base.py\u001b[0m in \u001b[0;36m__call__\u001b[1;34m(self, data, *args, **kwargs)\u001b[0m\n\u001b[0;32m    271\u001b[0m                 \u001b[0mthis\u001b[0m \u001b[1;33m+=\u001b[0m \u001b[0margs\u001b[0m\u001b[1;33m[\u001b[0m\u001b[1;36m0\u001b[0m\u001b[1;33m]\u001b[0m\u001b[1;33m,\u001b[0m\u001b[1;33m\u001b[0m\u001b[1;33m\u001b[0m\u001b[0m\n\u001b[0;32m    272\u001b[0m                 \u001b[0margs\u001b[0m \u001b[1;33m=\u001b[0m \u001b[0margs\u001b[0m\u001b[1;33m[\u001b[0m\u001b[1;36m1\u001b[0m\u001b[1;33m:\u001b[0m\u001b[1;33m]\u001b[0m\u001b[1;33m\u001b[0m\u001b[1;33m\u001b[0m\u001b[0m\n\u001b[1;32m--> 273\u001b[1;33m             \u001b[1;32myield\u001b[0m \u001b[1;32mfrom\u001b[0m \u001b[0mself\u001b[0m\u001b[1;33m.\u001b[0m\u001b[0m_plot_args\u001b[0m\u001b[1;33m(\u001b[0m\u001b[0mthis\u001b[0m\u001b[1;33m,\u001b[0m \u001b[0mkwargs\u001b[0m\u001b[1;33m)\u001b[0m\u001b[1;33m\u001b[0m\u001b[1;33m\u001b[0m\u001b[0m\n\u001b[0m\u001b[0;32m    274\u001b[0m \u001b[1;33m\u001b[0m\u001b[0m\n\u001b[0;32m    275\u001b[0m     \u001b[1;32mdef\u001b[0m \u001b[0mget_next_color\u001b[0m\u001b[1;33m(\u001b[0m\u001b[0mself\u001b[0m\u001b[1;33m)\u001b[0m\u001b[1;33m:\u001b[0m\u001b[1;33m\u001b[0m\u001b[1;33m\u001b[0m\u001b[0m\n",
      "\u001b[1;32m~\\anaconda3\\lib\\site-packages\\matplotlib\\axes\\_base.py\u001b[0m in \u001b[0;36m_plot_args\u001b[1;34m(self, tup, kwargs)\u001b[0m\n\u001b[0;32m    397\u001b[0m \u001b[1;33m\u001b[0m\u001b[0m\n\u001b[0;32m    398\u001b[0m         \u001b[1;32mif\u001b[0m \u001b[0mx\u001b[0m\u001b[1;33m.\u001b[0m\u001b[0mshape\u001b[0m\u001b[1;33m[\u001b[0m\u001b[1;36m0\u001b[0m\u001b[1;33m]\u001b[0m \u001b[1;33m!=\u001b[0m \u001b[0my\u001b[0m\u001b[1;33m.\u001b[0m\u001b[0mshape\u001b[0m\u001b[1;33m[\u001b[0m\u001b[1;36m0\u001b[0m\u001b[1;33m]\u001b[0m\u001b[1;33m:\u001b[0m\u001b[1;33m\u001b[0m\u001b[1;33m\u001b[0m\u001b[0m\n\u001b[1;32m--> 399\u001b[1;33m             raise ValueError(f\"x and y must have same first dimension, but \"\n\u001b[0m\u001b[0;32m    400\u001b[0m                              f\"have shapes {x.shape} and {y.shape}\")\n\u001b[0;32m    401\u001b[0m         \u001b[1;32mif\u001b[0m \u001b[0mx\u001b[0m\u001b[1;33m.\u001b[0m\u001b[0mndim\u001b[0m \u001b[1;33m>\u001b[0m \u001b[1;36m2\u001b[0m \u001b[1;32mor\u001b[0m \u001b[0my\u001b[0m\u001b[1;33m.\u001b[0m\u001b[0mndim\u001b[0m \u001b[1;33m>\u001b[0m \u001b[1;36m2\u001b[0m\u001b[1;33m:\u001b[0m\u001b[1;33m\u001b[0m\u001b[1;33m\u001b[0m\u001b[0m\n",
      "\u001b[1;31mValueError\u001b[0m: x and y must have same first dimension, but have shapes (0,) and (24,)"
     ]
    },
    {
     "data": {
      "image/png": "[encoded data removed]",
      "text/plain": [
       "<Figure size 432x288 with 1 Axes>"
      ]
     },
     "metadata": {
      "needs_background": "light"
     },
     "output_type": "display_data"
    }
   ],
   "source": [
    "plt.plot(episodes, scores)"
   ]
  },
  {
   "cell_type": "markdown",
   "metadata": {},
   "source": [
    "#### Epsilon-decay sample function"
   ]
  },
  {
   "cell_type": "markdown",
   "metadata": {},
   "source": [
    "<div class=\"alert alert-block alert-info\">\n",
    "Try building a similar epsilon-decay function for your model.\n",
    "</div>"
   ]
  },
  {
   "cell_type": "code",
   "execution_count": 55,
   "metadata": {},
   "outputs": [],
   "source": [
    "time = np.arange(0,10000)\n",
    "epsilon = []\n",
    "for i in range(0,10000):\n",
    "    epsilon.append(0 + (1 - 0) * np.exp(-0.0009*i))"
   ]
  },
  {
   "cell_type": "code",
   "execution_count": 56,
   "metadata": {},
   "outputs": [
    {
     "data": {
      "image/png": "[encoded data removed]",
      "text/plain": [
       "<Figure size 432x288 with 1 Axes>"
      ]
     },
     "metadata": {
      "needs_background": "light"
     },
     "output_type": "display_data"
    }
   ],
   "source": [
    "plt.plot(time, epsilon)\n",
    "plt.show()"
   ]
  },
  {
   "cell_type": "code",
   "execution_count": null,
   "metadata": {},
   "outputs": [],
   "source": []
  }
 ],
 "metadata": {
  "kernelspec": {
   "display_name": "Python 3",
   "language": "python",
   "name": "python3"
  },
  "language_info": {
   "codemirror_mode": {
    "name": "ipython",
    "version": 3
   },
   "file_extension": ".py",
   "mimetype": "text/x-python",
   "name": "python",
   "nbconvert_exporter": "python",
   "pygments_lexer": "ipython3",
   "version": "3.8.8"
  }
 },
 "nbformat": 4,
 "nbformat_minor": 2
}
